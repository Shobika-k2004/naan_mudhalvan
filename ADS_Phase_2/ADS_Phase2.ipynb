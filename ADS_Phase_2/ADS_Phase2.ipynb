{
  "nbformat": 4,
  "nbformat_minor": 0,
  "metadata": {
    "colab": {
      "provenance": []
    },
    "kernelspec": {
      "name": "python3",
      "display_name": "Python 3"
    },
    "language_info": {
      "name": "python"
    }
  },
  "cells": [
    {
      "cell_type": "markdown",
      "source": [
        "#import libraries"
      ],
      "metadata": {
        "id": "U-HkSQUECEov"
      }
    },
    {
      "cell_type": "code",
      "execution_count": null,
      "metadata": {
        "colab": {
          "base_uri": "https://localhost:8080/"
        },
        "id": "7cQ4O0j5DDJp",
        "outputId": "e045e0bb-634e-45c7-c90a-6b3da0cc1be3"
      },
      "outputs": [
        {
          "output_type": "stream",
          "name": "stderr",
          "text": [
            "<ipython-input-53-9c0b5e9ca0f2>:12: DtypeWarning: Columns (9,10,11,14,15,16,17) have mixed types. Specify dtype option on import or set low_memory=False.\n",
            "  data = pd.read_csv('/content/Electricity (1).csv')\n"
          ]
        }
      ],
      "source": [
        "import pandas as pd\n",
        "import numpy as np\n",
        "import matplotlib.pyplot as plt\n",
        "from sklearn.preprocessing import MinMaxScaler\n",
        "from tensorflow import keras\n",
        "from tensorflow.keras.models import Sequential\n",
        "from tensorflow.keras.layers import Dense, LSTM\n",
        "from statsmodels.tsa.arima.model import ARIMA\n",
        "from sklearn.model_selection import train_test_split\n",
        "import seaborn as sns\n",
        "# Load your time series data (replace 'your_data.csv' with the path to your dataset)\n",
        "data = pd.read_csv('/content/Electricity (1).csv')\n",
        "electricity_prices = data['SMPEP2'].values\n",
        "\n"
      ]
    },
    {
      "cell_type": "code",
      "source": [
        "data.info()"
      ],
      "metadata": {
        "colab": {
          "base_uri": "https://localhost:8080/"
        },
        "id": "Y08WBANVFW9t",
        "outputId": "6c17ff56-d57e-4b78-9153-3237efb87752"
      },
      "execution_count": null,
      "outputs": [
        {
          "output_type": "stream",
          "name": "stdout",
          "text": [
            "<class 'pandas.core.frame.DataFrame'>\n",
            "RangeIndex: 38014 entries, 0 to 38013\n",
            "Data columns (total 18 columns):\n",
            " #   Column                  Non-Null Count  Dtype \n",
            "---  ------                  --------------  ----- \n",
            " 0   DateTime                38014 non-null  object\n",
            " 1   Holiday                 38014 non-null  object\n",
            " 2   HolidayFlag             38014 non-null  int64 \n",
            " 3   DayOfWeek               38014 non-null  int64 \n",
            " 4   WeekOfYear              38014 non-null  int64 \n",
            " 5   Day                     38014 non-null  int64 \n",
            " 6   Month                   38014 non-null  int64 \n",
            " 7   Year                    38014 non-null  int64 \n",
            " 8   PeriodOfDay             38014 non-null  int64 \n",
            " 9   ForecastWindProduction  38014 non-null  object\n",
            " 10  SystemLoadEA            38014 non-null  object\n",
            " 11  SMPEA                   38014 non-null  object\n",
            " 12  ORKTemperature          38014 non-null  object\n",
            " 13  ORKWindspeed            38014 non-null  object\n",
            " 14  CO2Intensity            38014 non-null  object\n",
            " 15  ActualWindProduction    38014 non-null  object\n",
            " 16  SystemLoadEP2           38014 non-null  object\n",
            " 17  SMPEP2                  38014 non-null  object\n",
            "dtypes: int64(7), object(11)\n",
            "memory usage: 5.2+ MB\n"
          ]
        }
      ]
    },
    {
      "cell_type": "code",
      "source": [
        "data.isnull()\n"
      ],
      "metadata": {
        "colab": {
          "base_uri": "https://localhost:8080/",
          "height": 443
        },
        "id": "ovsu8WPKFkz7",
        "outputId": "5e07c50f-b87c-4d9a-8869-2e86a18fcf11"
      },
      "execution_count": null,
      "outputs": [
        {
          "output_type": "execute_result",
          "data": {
            "text/plain": [
              "       DateTime  Holiday  HolidayFlag  DayOfWeek  WeekOfYear    Day  Month  \\\n",
              "0         False    False        False      False       False  False  False   \n",
              "1         False    False        False      False       False  False  False   \n",
              "2         False    False        False      False       False  False  False   \n",
              "3         False    False        False      False       False  False  False   \n",
              "4         False    False        False      False       False  False  False   \n",
              "...         ...      ...          ...        ...         ...    ...    ...   \n",
              "38009     False    False        False      False       False  False  False   \n",
              "38010     False    False        False      False       False  False  False   \n",
              "38011     False    False        False      False       False  False  False   \n",
              "38012     False    False        False      False       False  False  False   \n",
              "38013     False    False        False      False       False  False  False   \n",
              "\n",
              "        Year  PeriodOfDay  ForecastWindProduction  SystemLoadEA  SMPEA  \\\n",
              "0      False        False                   False         False  False   \n",
              "1      False        False                   False         False  False   \n",
              "2      False        False                   False         False  False   \n",
              "3      False        False                   False         False  False   \n",
              "4      False        False                   False         False  False   \n",
              "...      ...          ...                     ...           ...    ...   \n",
              "38009  False        False                   False         False  False   \n",
              "38010  False        False                   False         False  False   \n",
              "38011  False        False                   False         False  False   \n",
              "38012  False        False                   False         False  False   \n",
              "38013  False        False                   False         False  False   \n",
              "\n",
              "       ORKTemperature  ORKWindspeed  CO2Intensity  ActualWindProduction  \\\n",
              "0               False         False         False                 False   \n",
              "1               False         False         False                 False   \n",
              "2               False         False         False                 False   \n",
              "3               False         False         False                 False   \n",
              "4               False         False         False                 False   \n",
              "...               ...           ...           ...                   ...   \n",
              "38009           False         False         False                 False   \n",
              "38010           False         False         False                 False   \n",
              "38011           False         False         False                 False   \n",
              "38012           False         False         False                 False   \n",
              "38013           False         False         False                 False   \n",
              "\n",
              "       SystemLoadEP2  SMPEP2  \n",
              "0              False   False  \n",
              "1              False   False  \n",
              "2              False   False  \n",
              "3              False   False  \n",
              "4              False   False  \n",
              "...              ...     ...  \n",
              "38009          False   False  \n",
              "38010          False   False  \n",
              "38011          False   False  \n",
              "38012          False   False  \n",
              "38013          False   False  \n",
              "\n",
              "[38014 rows x 18 columns]"
            ],
            "text/html": [
              "\n",
              "  <div id=\"df-220ae7d9-9114-4fca-b5ff-d8afd0c1f67e\" class=\"colab-df-container\">\n",
              "    <div>\n",
              "<style scoped>\n",
              "    .dataframe tbody tr th:only-of-type {\n",
              "        vertical-align: middle;\n",
              "    }\n",
              "\n",
              "    .dataframe tbody tr th {\n",
              "        vertical-align: top;\n",
              "    }\n",
              "\n",
              "    .dataframe thead th {\n",
              "        text-align: right;\n",
              "    }\n",
              "</style>\n",
              "<table border=\"1\" class=\"dataframe\">\n",
              "  <thead>\n",
              "    <tr style=\"text-align: right;\">\n",
              "      <th></th>\n",
              "      <th>DateTime</th>\n",
              "      <th>Holiday</th>\n",
              "      <th>HolidayFlag</th>\n",
              "      <th>DayOfWeek</th>\n",
              "      <th>WeekOfYear</th>\n",
              "      <th>Day</th>\n",
              "      <th>Month</th>\n",
              "      <th>Year</th>\n",
              "      <th>PeriodOfDay</th>\n",
              "      <th>ForecastWindProduction</th>\n",
              "      <th>SystemLoadEA</th>\n",
              "      <th>SMPEA</th>\n",
              "      <th>ORKTemperature</th>\n",
              "      <th>ORKWindspeed</th>\n",
              "      <th>CO2Intensity</th>\n",
              "      <th>ActualWindProduction</th>\n",
              "      <th>SystemLoadEP2</th>\n",
              "      <th>SMPEP2</th>\n",
              "    </tr>\n",
              "  </thead>\n",
              "  <tbody>\n",
              "    <tr>\n",
              "      <th>0</th>\n",
              "      <td>False</td>\n",
              "      <td>False</td>\n",
              "      <td>False</td>\n",
              "      <td>False</td>\n",
              "      <td>False</td>\n",
              "      <td>False</td>\n",
              "      <td>False</td>\n",
              "      <td>False</td>\n",
              "      <td>False</td>\n",
              "      <td>False</td>\n",
              "      <td>False</td>\n",
              "      <td>False</td>\n",
              "      <td>False</td>\n",
              "      <td>False</td>\n",
              "      <td>False</td>\n",
              "      <td>False</td>\n",
              "      <td>False</td>\n",
              "      <td>False</td>\n",
              "    </tr>\n",
              "    <tr>\n",
              "      <th>1</th>\n",
              "      <td>False</td>\n",
              "      <td>False</td>\n",
              "      <td>False</td>\n",
              "      <td>False</td>\n",
              "      <td>False</td>\n",
              "      <td>False</td>\n",
              "      <td>False</td>\n",
              "      <td>False</td>\n",
              "      <td>False</td>\n",
              "      <td>False</td>\n",
              "      <td>False</td>\n",
              "      <td>False</td>\n",
              "      <td>False</td>\n",
              "      <td>False</td>\n",
              "      <td>False</td>\n",
              "      <td>False</td>\n",
              "      <td>False</td>\n",
              "      <td>False</td>\n",
              "    </tr>\n",
              "    <tr>\n",
              "      <th>2</th>\n",
              "      <td>False</td>\n",
              "      <td>False</td>\n",
              "      <td>False</td>\n",
              "      <td>False</td>\n",
              "      <td>False</td>\n",
              "      <td>False</td>\n",
              "      <td>False</td>\n",
              "      <td>False</td>\n",
              "      <td>False</td>\n",
              "      <td>False</td>\n",
              "      <td>False</td>\n",
              "      <td>False</td>\n",
              "      <td>False</td>\n",
              "      <td>False</td>\n",
              "      <td>False</td>\n",
              "      <td>False</td>\n",
              "      <td>False</td>\n",
              "      <td>False</td>\n",
              "    </tr>\n",
              "    <tr>\n",
              "      <th>3</th>\n",
              "      <td>False</td>\n",
              "      <td>False</td>\n",
              "      <td>False</td>\n",
              "      <td>False</td>\n",
              "      <td>False</td>\n",
              "      <td>False</td>\n",
              "      <td>False</td>\n",
              "      <td>False</td>\n",
              "      <td>False</td>\n",
              "      <td>False</td>\n",
              "      <td>False</td>\n",
              "      <td>False</td>\n",
              "      <td>False</td>\n",
              "      <td>False</td>\n",
              "      <td>False</td>\n",
              "      <td>False</td>\n",
              "      <td>False</td>\n",
              "      <td>False</td>\n",
              "    </tr>\n",
              "    <tr>\n",
              "      <th>4</th>\n",
              "      <td>False</td>\n",
              "      <td>False</td>\n",
              "      <td>False</td>\n",
              "      <td>False</td>\n",
              "      <td>False</td>\n",
              "      <td>False</td>\n",
              "      <td>False</td>\n",
              "      <td>False</td>\n",
              "      <td>False</td>\n",
              "      <td>False</td>\n",
              "      <td>False</td>\n",
              "      <td>False</td>\n",
              "      <td>False</td>\n",
              "      <td>False</td>\n",
              "      <td>False</td>\n",
              "      <td>False</td>\n",
              "      <td>False</td>\n",
              "      <td>False</td>\n",
              "    </tr>\n",
              "    <tr>\n",
              "      <th>...</th>\n",
              "      <td>...</td>\n",
              "      <td>...</td>\n",
              "      <td>...</td>\n",
              "      <td>...</td>\n",
              "      <td>...</td>\n",
              "      <td>...</td>\n",
              "      <td>...</td>\n",
              "      <td>...</td>\n",
              "      <td>...</td>\n",
              "      <td>...</td>\n",
              "      <td>...</td>\n",
              "      <td>...</td>\n",
              "      <td>...</td>\n",
              "      <td>...</td>\n",
              "      <td>...</td>\n",
              "      <td>...</td>\n",
              "      <td>...</td>\n",
              "      <td>...</td>\n",
              "    </tr>\n",
              "    <tr>\n",
              "      <th>38009</th>\n",
              "      <td>False</td>\n",
              "      <td>False</td>\n",
              "      <td>False</td>\n",
              "      <td>False</td>\n",
              "      <td>False</td>\n",
              "      <td>False</td>\n",
              "      <td>False</td>\n",
              "      <td>False</td>\n",
              "      <td>False</td>\n",
              "      <td>False</td>\n",
              "      <td>False</td>\n",
              "      <td>False</td>\n",
              "      <td>False</td>\n",
              "      <td>False</td>\n",
              "      <td>False</td>\n",
              "      <td>False</td>\n",
              "      <td>False</td>\n",
              "      <td>False</td>\n",
              "    </tr>\n",
              "    <tr>\n",
              "      <th>38010</th>\n",
              "      <td>False</td>\n",
              "      <td>False</td>\n",
              "      <td>False</td>\n",
              "      <td>False</td>\n",
              "      <td>False</td>\n",
              "      <td>False</td>\n",
              "      <td>False</td>\n",
              "      <td>False</td>\n",
              "      <td>False</td>\n",
              "      <td>False</td>\n",
              "      <td>False</td>\n",
              "      <td>False</td>\n",
              "      <td>False</td>\n",
              "      <td>False</td>\n",
              "      <td>False</td>\n",
              "      <td>False</td>\n",
              "      <td>False</td>\n",
              "      <td>False</td>\n",
              "    </tr>\n",
              "    <tr>\n",
              "      <th>38011</th>\n",
              "      <td>False</td>\n",
              "      <td>False</td>\n",
              "      <td>False</td>\n",
              "      <td>False</td>\n",
              "      <td>False</td>\n",
              "      <td>False</td>\n",
              "      <td>False</td>\n",
              "      <td>False</td>\n",
              "      <td>False</td>\n",
              "      <td>False</td>\n",
              "      <td>False</td>\n",
              "      <td>False</td>\n",
              "      <td>False</td>\n",
              "      <td>False</td>\n",
              "      <td>False</td>\n",
              "      <td>False</td>\n",
              "      <td>False</td>\n",
              "      <td>False</td>\n",
              "    </tr>\n",
              "    <tr>\n",
              "      <th>38012</th>\n",
              "      <td>False</td>\n",
              "      <td>False</td>\n",
              "      <td>False</td>\n",
              "      <td>False</td>\n",
              "      <td>False</td>\n",
              "      <td>False</td>\n",
              "      <td>False</td>\n",
              "      <td>False</td>\n",
              "      <td>False</td>\n",
              "      <td>False</td>\n",
              "      <td>False</td>\n",
              "      <td>False</td>\n",
              "      <td>False</td>\n",
              "      <td>False</td>\n",
              "      <td>False</td>\n",
              "      <td>False</td>\n",
              "      <td>False</td>\n",
              "      <td>False</td>\n",
              "    </tr>\n",
              "    <tr>\n",
              "      <th>38013</th>\n",
              "      <td>False</td>\n",
              "      <td>False</td>\n",
              "      <td>False</td>\n",
              "      <td>False</td>\n",
              "      <td>False</td>\n",
              "      <td>False</td>\n",
              "      <td>False</td>\n",
              "      <td>False</td>\n",
              "      <td>False</td>\n",
              "      <td>False</td>\n",
              "      <td>False</td>\n",
              "      <td>False</td>\n",
              "      <td>False</td>\n",
              "      <td>False</td>\n",
              "      <td>False</td>\n",
              "      <td>False</td>\n",
              "      <td>False</td>\n",
              "      <td>False</td>\n",
              "    </tr>\n",
              "  </tbody>\n",
              "</table>\n",
              "<p>38014 rows × 18 columns</p>\n",
              "</div>\n",
              "    <div class=\"colab-df-buttons\">\n",
              "\n",
              "  <div class=\"colab-df-container\">\n",
              "    <button class=\"colab-df-convert\" onclick=\"convertToInteractive('df-220ae7d9-9114-4fca-b5ff-d8afd0c1f67e')\"\n",
              "            title=\"Convert this dataframe to an interactive table.\"\n",
              "            style=\"display:none;\">\n",
              "\n",
              "  <svg xmlns=\"http://www.w3.org/2000/svg\" height=\"24px\" viewBox=\"0 -960 960 960\">\n",
              "    <path d=\"M120-120v-720h720v720H120Zm60-500h600v-160H180v160Zm220 220h160v-160H400v160Zm0 220h160v-160H400v160ZM180-400h160v-160H180v160Zm440 0h160v-160H620v160ZM180-180h160v-160H180v160Zm440 0h160v-160H620v160Z\"/>\n",
              "  </svg>\n",
              "    </button>\n",
              "\n",
              "  <style>\n",
              "    .colab-df-container {\n",
              "      display:flex;\n",
              "      gap: 12px;\n",
              "    }\n",
              "\n",
              "    .colab-df-convert {\n",
              "      background-color: #E8F0FE;\n",
              "      border: none;\n",
              "      border-radius: 50%;\n",
              "      cursor: pointer;\n",
              "      display: none;\n",
              "      fill: #1967D2;\n",
              "      height: 32px;\n",
              "      padding: 0 0 0 0;\n",
              "      width: 32px;\n",
              "    }\n",
              "\n",
              "    .colab-df-convert:hover {\n",
              "      background-color: #E2EBFA;\n",
              "      box-shadow: 0px 1px 2px rgba(60, 64, 67, 0.3), 0px 1px 3px 1px rgba(60, 64, 67, 0.15);\n",
              "      fill: #174EA6;\n",
              "    }\n",
              "\n",
              "    .colab-df-buttons div {\n",
              "      margin-bottom: 4px;\n",
              "    }\n",
              "\n",
              "    [theme=dark] .colab-df-convert {\n",
              "      background-color: #3B4455;\n",
              "      fill: #D2E3FC;\n",
              "    }\n",
              "\n",
              "    [theme=dark] .colab-df-convert:hover {\n",
              "      background-color: #434B5C;\n",
              "      box-shadow: 0px 1px 3px 1px rgba(0, 0, 0, 0.15);\n",
              "      filter: drop-shadow(0px 1px 2px rgba(0, 0, 0, 0.3));\n",
              "      fill: #FFFFFF;\n",
              "    }\n",
              "  </style>\n",
              "\n",
              "    <script>\n",
              "      const buttonEl =\n",
              "        document.querySelector('#df-220ae7d9-9114-4fca-b5ff-d8afd0c1f67e button.colab-df-convert');\n",
              "      buttonEl.style.display =\n",
              "        google.colab.kernel.accessAllowed ? 'block' : 'none';\n",
              "\n",
              "      async function convertToInteractive(key) {\n",
              "        const element = document.querySelector('#df-220ae7d9-9114-4fca-b5ff-d8afd0c1f67e');\n",
              "        const dataTable =\n",
              "          await google.colab.kernel.invokeFunction('convertToInteractive',\n",
              "                                                    [key], {});\n",
              "        if (!dataTable) return;\n",
              "\n",
              "        const docLinkHtml = 'Like what you see? Visit the ' +\n",
              "          '<a target=\"_blank\" href=https://colab.research.google.com/notebooks/data_table.ipynb>data table notebook</a>'\n",
              "          + ' to learn more about interactive tables.';\n",
              "        element.innerHTML = '';\n",
              "        dataTable['output_type'] = 'display_data';\n",
              "        await google.colab.output.renderOutput(dataTable, element);\n",
              "        const docLink = document.createElement('div');\n",
              "        docLink.innerHTML = docLinkHtml;\n",
              "        element.appendChild(docLink);\n",
              "      }\n",
              "    </script>\n",
              "  </div>\n",
              "\n",
              "\n",
              "<div id=\"df-cc9eece6-3551-4d46-8a21-ed73fad672ac\">\n",
              "  <button class=\"colab-df-quickchart\" onclick=\"quickchart('df-cc9eece6-3551-4d46-8a21-ed73fad672ac')\"\n",
              "            title=\"Suggest charts.\"\n",
              "            style=\"display:none;\">\n",
              "\n",
              "<svg xmlns=\"http://www.w3.org/2000/svg\" height=\"24px\"viewBox=\"0 0 24 24\"\n",
              "     width=\"24px\">\n",
              "    <g>\n",
              "        <path d=\"M19 3H5c-1.1 0-2 .9-2 2v14c0 1.1.9 2 2 2h14c1.1 0 2-.9 2-2V5c0-1.1-.9-2-2-2zM9 17H7v-7h2v7zm4 0h-2V7h2v10zm4 0h-2v-4h2v4z\"/>\n",
              "    </g>\n",
              "</svg>\n",
              "  </button>\n",
              "\n",
              "<style>\n",
              "  .colab-df-quickchart {\n",
              "      --bg-color: #E8F0FE;\n",
              "      --fill-color: #1967D2;\n",
              "      --hover-bg-color: #E2EBFA;\n",
              "      --hover-fill-color: #174EA6;\n",
              "      --disabled-fill-color: #AAA;\n",
              "      --disabled-bg-color: #DDD;\n",
              "  }\n",
              "\n",
              "  [theme=dark] .colab-df-quickchart {\n",
              "      --bg-color: #3B4455;\n",
              "      --fill-color: #D2E3FC;\n",
              "      --hover-bg-color: #434B5C;\n",
              "      --hover-fill-color: #FFFFFF;\n",
              "      --disabled-bg-color: #3B4455;\n",
              "      --disabled-fill-color: #666;\n",
              "  }\n",
              "\n",
              "  .colab-df-quickchart {\n",
              "    background-color: var(--bg-color);\n",
              "    border: none;\n",
              "    border-radius: 50%;\n",
              "    cursor: pointer;\n",
              "    display: none;\n",
              "    fill: var(--fill-color);\n",
              "    height: 32px;\n",
              "    padding: 0;\n",
              "    width: 32px;\n",
              "  }\n",
              "\n",
              "  .colab-df-quickchart:hover {\n",
              "    background-color: var(--hover-bg-color);\n",
              "    box-shadow: 0 1px 2px rgba(60, 64, 67, 0.3), 0 1px 3px 1px rgba(60, 64, 67, 0.15);\n",
              "    fill: var(--button-hover-fill-color);\n",
              "  }\n",
              "\n",
              "  .colab-df-quickchart-complete:disabled,\n",
              "  .colab-df-quickchart-complete:disabled:hover {\n",
              "    background-color: var(--disabled-bg-color);\n",
              "    fill: var(--disabled-fill-color);\n",
              "    box-shadow: none;\n",
              "  }\n",
              "\n",
              "  .colab-df-spinner {\n",
              "    border: 2px solid var(--fill-color);\n",
              "    border-color: transparent;\n",
              "    border-bottom-color: var(--fill-color);\n",
              "    animation:\n",
              "      spin 1s steps(1) infinite;\n",
              "  }\n",
              "\n",
              "  @keyframes spin {\n",
              "    0% {\n",
              "      border-color: transparent;\n",
              "      border-bottom-color: var(--fill-color);\n",
              "      border-left-color: var(--fill-color);\n",
              "    }\n",
              "    20% {\n",
              "      border-color: transparent;\n",
              "      border-left-color: var(--fill-color);\n",
              "      border-top-color: var(--fill-color);\n",
              "    }\n",
              "    30% {\n",
              "      border-color: transparent;\n",
              "      border-left-color: var(--fill-color);\n",
              "      border-top-color: var(--fill-color);\n",
              "      border-right-color: var(--fill-color);\n",
              "    }\n",
              "    40% {\n",
              "      border-color: transparent;\n",
              "      border-right-color: var(--fill-color);\n",
              "      border-top-color: var(--fill-color);\n",
              "    }\n",
              "    60% {\n",
              "      border-color: transparent;\n",
              "      border-right-color: var(--fill-color);\n",
              "    }\n",
              "    80% {\n",
              "      border-color: transparent;\n",
              "      border-right-color: var(--fill-color);\n",
              "      border-bottom-color: var(--fill-color);\n",
              "    }\n",
              "    90% {\n",
              "      border-color: transparent;\n",
              "      border-bottom-color: var(--fill-color);\n",
              "    }\n",
              "  }\n",
              "</style>\n",
              "\n",
              "  <script>\n",
              "    async function quickchart(key) {\n",
              "      const quickchartButtonEl =\n",
              "        document.querySelector('#' + key + ' button');\n",
              "      quickchartButtonEl.disabled = true;  // To prevent multiple clicks.\n",
              "      quickchartButtonEl.classList.add('colab-df-spinner');\n",
              "      try {\n",
              "        const charts = await google.colab.kernel.invokeFunction(\n",
              "            'suggestCharts', [key], {});\n",
              "      } catch (error) {\n",
              "        console.error('Error during call to suggestCharts:', error);\n",
              "      }\n",
              "      quickchartButtonEl.classList.remove('colab-df-spinner');\n",
              "      quickchartButtonEl.classList.add('colab-df-quickchart-complete');\n",
              "    }\n",
              "    (() => {\n",
              "      let quickchartButtonEl =\n",
              "        document.querySelector('#df-cc9eece6-3551-4d46-8a21-ed73fad672ac button');\n",
              "      quickchartButtonEl.style.display =\n",
              "        google.colab.kernel.accessAllowed ? 'block' : 'none';\n",
              "    })();\n",
              "  </script>\n",
              "</div>\n",
              "    </div>\n",
              "  </div>\n"
            ]
          },
          "metadata": {},
          "execution_count": 14
        }
      ]
    },
    {
      "cell_type": "code",
      "source": [
        "data.isnull().sum()"
      ],
      "metadata": {
        "colab": {
          "base_uri": "https://localhost:8080/"
        },
        "id": "xh4nPtCLGMhl",
        "outputId": "42d178ce-03b3-4e15-9a4c-3e11027d8815"
      },
      "execution_count": null,
      "outputs": [
        {
          "output_type": "execute_result",
          "data": {
            "text/plain": [
              "DateTime                  0\n",
              "Holiday                   0\n",
              "HolidayFlag               0\n",
              "DayOfWeek                 0\n",
              "WeekOfYear                0\n",
              "Day                       0\n",
              "Month                     0\n",
              "Year                      0\n",
              "PeriodOfDay               0\n",
              "ForecastWindProduction    0\n",
              "SystemLoadEA              0\n",
              "SMPEA                     0\n",
              "ORKTemperature            0\n",
              "ORKWindspeed              0\n",
              "CO2Intensity              0\n",
              "ActualWindProduction      0\n",
              "SystemLoadEP2             0\n",
              "SMPEP2                    0\n",
              "dtype: int64"
            ]
          },
          "metadata": {},
          "execution_count": 15
        }
      ]
    },
    {
      "cell_type": "code",
      "source": [
        "data.shape"
      ],
      "metadata": {
        "colab": {
          "base_uri": "https://localhost:8080/"
        },
        "id": "kQI9W6U_CJpm",
        "outputId": "b72e9ff4-e240-44b0-c234-92fe85a3e4ad"
      },
      "execution_count": null,
      "outputs": [
        {
          "output_type": "execute_result",
          "data": {
            "text/plain": [
              "(37682, 18)"
            ]
          },
          "metadata": {},
          "execution_count": 72
        }
      ]
    },
    {
      "cell_type": "code",
      "source": [
        "data.describe"
      ],
      "metadata": {
        "colab": {
          "base_uri": "https://localhost:8080/"
        },
        "id": "Ei0B7wZRCL1O",
        "outputId": "f131880e-edbb-4a0a-c557-0f207a7d8e20"
      },
      "execution_count": null,
      "outputs": [
        {
          "output_type": "execute_result",
          "data": {
            "text/plain": [
              "<bound method NDFrame.describe of                DateTime         Holiday  HolidayFlag  DayOfWeek  WeekOfYear  \\\n",
              "0      01/11/2011 00:00            None            0          1          44   \n",
              "1      01/11/2011 00:30            None            0          1          44   \n",
              "2      01/11/2011 01:00            None            0          1          44   \n",
              "3      01/11/2011 01:30            None            0          1          44   \n",
              "4      01/11/2011 02:00            None            0          1          44   \n",
              "...                 ...             ...          ...        ...         ...   \n",
              "38009  31/12/2013 21:30  New Year's Eve            1          1           1   \n",
              "38010  31/12/2013 22:00  New Year's Eve            1          1           1   \n",
              "38011  31/12/2013 22:30  New Year's Eve            1          1           1   \n",
              "38012  31/12/2013 23:00  New Year's Eve            1          1           1   \n",
              "38013  31/12/2013 23:30  New Year's Eve            1          1           1   \n",
              "\n",
              "       Day  Month  Year  PeriodOfDay  ForecastWindProduction  SystemLoadEA  \\\n",
              "0        1     11  2011            0                  315.31       3388.77   \n",
              "1        1     11  2011            1                  321.80       3196.66   \n",
              "2        1     11  2011            2                  328.57       3060.71   \n",
              "3        1     11  2011            3                  335.60       2945.56   \n",
              "4        1     11  2011            4                  342.90       2849.34   \n",
              "...    ...    ...   ...          ...                     ...           ...   \n",
              "38009   31     12  2013           43                 1179.14       3932.22   \n",
              "38010   31     12  2013           44                 1152.01       3821.44   \n",
              "38011   31     12  2013           45                 1123.67       3724.21   \n",
              "38012   31     12  2013           46                 1094.24       3638.16   \n",
              "38013   31     12  2013           47                 1064.00       3624.25   \n",
              "\n",
              "       SMPEA  ORKTemperature  ORKWindspeed  CO2Intensity  \\\n",
              "0      49.26             6.0           9.3        600.71   \n",
              "1      49.26             6.0          11.1        605.42   \n",
              "2      49.10             5.0          11.1        589.97   \n",
              "3      48.04             6.0           9.3        585.94   \n",
              "4      33.75             6.0          11.1        571.52   \n",
              "...      ...             ...           ...           ...   \n",
              "38009  34.51             6.0          22.2        285.31   \n",
              "38010  33.83             5.0          24.1        278.31   \n",
              "38011  31.75             4.0          20.4        280.91   \n",
              "38012  33.83             5.0          14.8        302.46   \n",
              "38013  33.83             5.0          16.7        308.01   \n",
              "\n",
              "       ActualWindProduction  SystemLoadEP2  SMPEP2  \n",
              "0                     356.0        3159.60   54.32  \n",
              "1                     317.0        2973.01   54.23  \n",
              "2                     311.0        2834.00   54.23  \n",
              "3                     313.0        2725.99   53.47  \n",
              "4                     346.0        2655.64   39.87  \n",
              "...                     ...            ...     ...  \n",
              "38009                 812.0        3692.95   42.45  \n",
              "38010                 852.0        3571.00   33.83  \n",
              "38011                 962.0        3460.29   31.75  \n",
              "38012                 950.0        3563.99   50.60  \n",
              "38013                1020.0        3517.08   34.90  \n",
              "\n",
              "[37682 rows x 18 columns]>"
            ]
          },
          "metadata": {},
          "execution_count": 73
        }
      ]
    },
    {
      "cell_type": "markdown",
      "source": [
        "convert float to numeric"
      ],
      "metadata": {
        "id": "VVdPpzF3Cbn9"
      }
    },
    {
      "cell_type": "code",
      "source": [
        "def clean_column(column):\n",
        "\n",
        "\n",
        "    return column\n",
        "\n",
        "# Apply the clean_column function to the affected columns\n",
        "columns_to_clean = ['ForecastWindProduction', 'SMPEA','SystemLoadEA','SystemLoadEP2','ORKWindspeed','CO2Intensity','SMPEP2']  # Replace with the actual column names\n",
        "for column in columns_to_clean:\n",
        "    data[column] = clean_column(data[column])\n",
        "\n",
        "# Fill NaN values with the mean or other appropriate strategies\n",
        "data.fillna(data.mean(), inplace=True)\n",
        "\n",
        "\n"
      ],
      "metadata": {
        "colab": {
          "base_uri": "https://localhost:8080/"
        },
        "id": "CpKDx9mpJ-cv",
        "outputId": "7e7b6b3f-fb52-4c8f-d3d1-7b6ba4925371"
      },
      "execution_count": null,
      "outputs": [
        {
          "output_type": "stream",
          "name": "stderr",
          "text": [
            "<ipython-input-38-1b605ef5b657>:12: FutureWarning: The default value of numeric_only in DataFrame.mean is deprecated. In a future version, it will default to False. In addition, specifying 'numeric_only=None' is deprecated. Select only valid columns or specify the value of numeric_only to silence this warning.\n",
            "  data.fillna(data.mean(), inplace=True)\n"
          ]
        }
      ]
    },
    {
      "cell_type": "code",
      "source": [
        "y = 'SMPEP2'  # Replace with your target variable\n",
        "x= ['ForecastWindProduction', 'CO2Intensity', 'ActualWindProduction', 'SystemLoadEP2', 'SMPEP2']\n"
      ],
      "metadata": {
        "id": "7QL4DQF0GTCs"
      },
      "execution_count": null,
      "outputs": []
    },
    {
      "cell_type": "code",
      "source": [
        "import pandas as pd\n",
        "import numpy as np\n",
        "import matplotlib.pyplot as plt\n",
        "from statsmodels.tsa.arima.model import ARIMA\n",
        "from sklearn.metrics import mean_squared_error\n",
        "from sklearn.model_selection import train_test_split\n",
        "\n",
        "# Load your dataset\n",
        "data = pd.read_csv('Electricity.csv')\n",
        "\n",
        "# Specify the target variable (electricity price) and feature columns\n",
        "target_variable = 'SystemLoadEA'  # Replace with your target variable\n",
        "feature_columns = ['ForecastWindProduction', 'CO2Intensity', 'ActualWindProduction', 'SystemLoadEP2', 'SMPEP2']\n",
        "\n",
        "# Keep only the selected columns\n",
        "data = data[['DateTime', target_variable] + feature_columns]\n",
        "\n",
        "# Convert 'DateTime' column to datetime data type\n",
        "data['DateTime'] = pd.to_datetime(data['DateTime'])\n",
        "\n",
        "# Set 'DateTime' as the index\n",
        "data.set_index('DateTime', inplace=True)\n",
        "data[target_variable] = pd.to_numeric(data[target_variable], errors='coerce')\n",
        "\n",
        "# Define training and testing sets\n",
        "X = data[feature_columns]\n",
        "y = data[target_variable]\n",
        "\n",
        "X_train, X_test, y_train, y_test = train_test_split(X, y, test_size=0.2, random_state=42)\n",
        "\n",
        "# Fit an ARIMA model\n",
        "model = ARIMA(y_train, order=(5, 1, 0))\n",
        "model_fit = model.fit()\n",
        "\n",
        "# Make predictions\n",
        "start = len(y_train)\n",
        "end = len(y_train) + len(y_test) - 1\n",
        "predictions = model_fit.predict(start=start, end=end, typ='levels')\n",
        "\n",
        "# Calculate Mean Squared Error\n",
        "mse = mean_squared_error(y_test, predictions)\n",
        "print(f\"Mean Squared Error: {mse}\")\n",
        "\n",
        "# Visualize the predictions\n",
        "plt.plot(y_test.index, y_test, label='Actual')\n",
        "plt.plot(y_test.index, predictions, color='red', label='Predicted')\n",
        "plt.legend()\n",
        "plt.show()\n"
      ],
      "metadata": {
        "colab": {
          "base_uri": "https://localhost:8080/",
          "height": 690
        },
        "id": "c6BN4Wbj0LxK",
        "outputId": "e359bb66-8779-4c06-e8de-0e76985cdf09"
      },
      "execution_count": null,
      "outputs": [
        {
          "output_type": "stream",
          "name": "stderr",
          "text": [
            "<ipython-input-57-fd8609c0a50f>:9: DtypeWarning: Columns (9,10,11,14,15,16,17) have mixed types. Specify dtype option on import or set low_memory=False.\n",
            "  data = pd.read_csv('Electricity.csv')\n",
            "/usr/local/lib/python3.10/dist-packages/statsmodels/tsa/base/tsa_model.py:473: ValueWarning: A date index has been provided, but it has no associated frequency information and so will be ignored when e.g. forecasting.\n",
            "  self._init_dates(dates, freq)\n",
            "/usr/local/lib/python3.10/dist-packages/statsmodels/tsa/base/tsa_model.py:473: ValueWarning: A date index has been provided, but it is not monotonic and so will be ignored when e.g. forecasting.\n",
            "  self._init_dates(dates, freq)\n",
            "/usr/local/lib/python3.10/dist-packages/statsmodels/tsa/base/tsa_model.py:836: ValueWarning: No supported index is available. Prediction results will be given with an integer index beginning at `start`.\n",
            "  return get_prediction_index(\n",
            "/usr/local/lib/python3.10/dist-packages/statsmodels/tsa/base/tsa_model.py:836: FutureWarning: No supported index is available. In the next version, calling this method in a model without a supported index will result in an exception.\n",
            "  return get_prediction_index(\n",
            "/usr/local/lib/python3.10/dist-packages/statsmodels/tsa/statespace/representation.py:374: FutureWarning: Unknown keyword arguments: dict_keys(['typ']).Passing unknown keyword arguments will raise a TypeError beginning in version 0.15.\n",
            "  warnings.warn(msg, FutureWarning)\n"
          ]
        },
        {
          "output_type": "stream",
          "name": "stdout",
          "text": [
            "Mean Squared Error: 1117747.5000516041\n"
          ]
        },
        {
          "output_type": "display_data",
          "data": {
            "text/plain": [
              "<Figure size 640x480 with 1 Axes>"
            ],
            "image/png": "[encoded data removed]"
          },
          "metadata": {}
        }
      ]
    },
    {
      "cell_type": "code",
      "source": [
        "import pandas as pd\n",
        "import numpy as np\n",
        "data = pd.read_csv(\"/content/Electricity.csv\")\n",
        "print(data.head())"
      ],
      "metadata": {
        "colab": {
          "base_uri": "https://localhost:8080/"
        },
        "id": "jHJMxOA09tUs",
        "outputId": "f3fab274-3472-4573-cc67-a6ca2a07a68d"
      },
      "execution_count": null,
      "outputs": [
        {
          "output_type": "stream",
          "name": "stdout",
          "text": [
            "           DateTime Holiday  HolidayFlag  DayOfWeek  WeekOfYear  Day  Month  \\\n",
            "0  01/11/2011 00:00    None            0          1          44    1     11   \n",
            "1  01/11/2011 00:30    None            0          1          44    1     11   \n",
            "2  01/11/2011 01:00    None            0          1          44    1     11   \n",
            "3  01/11/2011 01:30    None            0          1          44    1     11   \n",
            "4  01/11/2011 02:00    None            0          1          44    1     11   \n",
            "\n",
            "   Year  PeriodOfDay ForecastWindProduction SystemLoadEA  SMPEA  \\\n",
            "0  2011            0                 315.31      3388.77  49.26   \n",
            "1  2011            1                 321.80      3196.66  49.26   \n",
            "2  2011            2                 328.57      3060.71  49.10   \n",
            "3  2011            3                 335.60      2945.56  48.04   \n",
            "4  2011            4                 342.90      2849.34  33.75   \n",
            "\n",
            "  ORKTemperature ORKWindspeed CO2Intensity ActualWindProduction SystemLoadEP2  \\\n",
            "0           6.00         9.30       600.71               356.00       3159.60   \n",
            "1           6.00        11.10       605.42               317.00       2973.01   \n",
            "2           5.00        11.10       589.97               311.00       2834.00   \n",
            "3           6.00         9.30       585.94               313.00       2725.99   \n",
            "4           6.00        11.10       571.52               346.00       2655.64   \n",
            "\n",
            "  SMPEP2  \n",
            "0  54.32  \n",
            "1  54.23  \n",
            "2  54.23  \n",
            "3  53.47  \n",
            "4  39.87  \n"
          ]
        },
        {
          "output_type": "stream",
          "name": "stderr",
          "text": [
            "<ipython-input-59-e6f04e746724>:3: DtypeWarning: Columns (9,10,11,14,15,16,17) have mixed types. Specify dtype option on import or set low_memory=False.\n",
            "  data = pd.read_csv(\"/content/Electricity.csv\")\n"
          ]
        }
      ]
    },
    {
      "cell_type": "code",
      "source": [
        "import seaborn as sns\n",
        "import matplotlib.pyplot as plt\n",
        "correlations = data.corr(method='pearson')\n",
        "plt.figure(figsize=(16, 12))\n",
        "sns.heatmap(correlations, cmap=\"coolwarm\", annot=True)\n",
        "plt.show()"
      ],
      "metadata": {
        "colab": {
          "base_uri": "https://localhost:8080/",
          "height": 972
        },
        "id": "j3zThOnbADVL",
        "outputId": "0ba7d35f-15b8-4b7a-8fba-fc42fca1dad6"
      },
      "execution_count": null,
      "outputs": [
        {
          "output_type": "stream",
          "name": "stderr",
          "text": [
            "<ipython-input-60-c51eeb38dbc7>:3: FutureWarning: The default value of numeric_only in DataFrame.corr is deprecated. In a future version, it will default to False. Select only valid columns or specify the value of numeric_only to silence this warning.\n",
            "  correlations = data.corr(method='pearson')\n"
          ]
        },
        {
          "output_type": "display_data",
          "data": {
            "text/plain": [
              "<Figure size 1600x1200 with 2 Axes>"
            ],
            "image/png": "[encoded data removed]"
          },
          "metadata": {}
        }
      ]
    },
    {
      "cell_type": "code",
      "source": [
        "data = data.dropna()"
      ],
      "metadata": {
        "id": "2vSEtSGfBDU9"
      },
      "execution_count": null,
      "outputs": []
    },
    {
      "cell_type": "code",
      "source": [
        "x = data[[\"Day\", \"Month\", \"ForecastWindProduction\", \"SystemLoadEA\",\n",
        "          \"SMPEA\", \"ORKTemperature\", \"ORKWindspeed\", \"CO2Intensity\",\n",
        "          \"ActualWindProduction\", \"SystemLoadEP2\"]]\n",
        "y = data[\"SMPEP2\"]\n",
        "from sklearn.model_selection import train_test_split\n",
        "xtrain, xtest, ytrain, ytest = train_test_split(x, y,\n",
        "                                                test_size=0.2,\n",
        "                                                random_state=42)"
      ],
      "metadata": {
        "id": "0qij8vcjAU0s"
      },
      "execution_count": null,
      "outputs": []
    },
    {
      "cell_type": "code",
      "source": [
        "data[\"ForecastWindProduction\"] = pd.to_numeric(data[\"ForecastWindProduction\"], errors= 'coerce')\n",
        "data[\"SystemLoadEA\"] = pd.to_numeric(data[\"SystemLoadEA\"], errors= 'coerce')\n",
        "data[\"SMPEA\"] = pd.to_numeric(data[\"SMPEA\"], errors= 'coerce')\n",
        "data[\"ORKTemperature\"] = pd.to_numeric(data[\"ORKTemperature\"], errors= 'coerce')\n",
        "data[\"ORKWindspeed\"] = pd.to_numeric(data[\"ORKWindspeed\"], errors= 'coerce')\n",
        "data[\"CO2Intensity\"] = pd.to_numeric(data[\"CO2Intensity\"], errors= 'coerce')\n",
        "data[\"ActualWindProduction\"] = pd.to_numeric(data[\"ActualWindProduction\"], errors= 'coerce')\n",
        "data[\"SystemLoadEP2\"] = pd.to_numeric(data[\"SystemLoadEP2\"], errors= 'coerce')\n",
        "data[\"SMPEP2\"] = pd.to_numeric(data[\"SMPEP2\"], errors= 'coerce')"
      ],
      "metadata": {
        "id": "NfVXO_6fAjvU"
      },
      "execution_count": null,
      "outputs": []
    },
    {
      "cell_type": "code",
      "source": [
        "from sklearn.ensemble import RandomForestRegressor\n",
        "model = RandomForestRegressor()\n",
        "model.fit(xtrain, ytrain)"
      ],
      "metadata": {
        "colab": {
          "base_uri": "https://localhost:8080/",
          "height": 75
        },
        "id": "OCnS83XkAoKc",
        "outputId": "8093dd2a-e373-4310-92d4-49f34f9aa750"
      },
      "execution_count": null,
      "outputs": [
        {
          "output_type": "execute_result",
          "data": {
            "text/plain": [
              "RandomForestRegressor()"
            ],
            "text/html": [
              "<style>#sk-container-id-1 {color: black;background-color: white;}#sk-container-id-1 pre{padding: 0;}#sk-container-id-1 div.sk-toggleable {background-color: white;}#sk-container-id-1 label.sk-toggleable__label {cursor: pointer;display: block;width: 100%;margin-bottom: 0;padding: 0.3em;box-sizing: border-box;text-align: center;}#sk-container-id-1 label.sk-toggleable__label-arrow:before {content: \"▸\";float: left;margin-right: 0.25em;color: #696969;}#sk-container-id-1 label.sk-toggleable__label-arrow:hover:before {color: black;}#sk-container-id-1 div.sk-estimator:hover label.sk-toggleable__label-arrow:before {color: black;}#sk-container-id-1 div.sk-toggleable__content {max-height: 0;max-width: 0;overflow: hidden;text-align: left;background-color: #f0f8ff;}#sk-container-id-1 div.sk-toggleable__content pre {margin: 0.2em;color: black;border-radius: 0.25em;background-color: #f0f8ff;}#sk-container-id-1 input.sk-toggleable__control:checked~div.sk-toggleable__content {max-height: 200px;max-width: 100%;overflow: auto;}#sk-container-id-1 input.sk-toggleable__control:checked~label.sk-toggleable__label-arrow:before {content: \"▾\";}#sk-container-id-1 div.sk-estimator input.sk-toggleable__control:checked~label.sk-toggleable__label {background-color: #d4ebff;}#sk-container-id-1 div.sk-label input.sk-toggleable__control:checked~label.sk-toggleable__label {background-color: #d4ebff;}#sk-container-id-1 input.sk-hidden--visually {border: 0;clip: rect(1px 1px 1px 1px);clip: rect(1px, 1px, 1px, 1px);height: 1px;margin: -1px;overflow: hidden;padding: 0;position: absolute;width: 1px;}#sk-container-id-1 div.sk-estimator {font-family: monospace;background-color: #f0f8ff;border: 1px dotted black;border-radius: 0.25em;box-sizing: border-box;margin-bottom: 0.5em;}#sk-container-id-1 div.sk-estimator:hover {background-color: #d4ebff;}#sk-container-id-1 div.sk-parallel-item::after {content: \"\";width: 100%;border-bottom: 1px solid gray;flex-grow: 1;}#sk-container-id-1 div.sk-label:hover label.sk-toggleable__label {background-color: #d4ebff;}#sk-container-id-1 div.sk-serial::before {content: \"\";position: absolute;border-left: 1px solid gray;box-sizing: border-box;top: 0;bottom: 0;left: 50%;z-index: 0;}#sk-container-id-1 div.sk-serial {display: flex;flex-direction: column;align-items: center;background-color: white;padding-right: 0.2em;padding-left: 0.2em;position: relative;}#sk-container-id-1 div.sk-item {position: relative;z-index: 1;}#sk-container-id-1 div.sk-parallel {display: flex;align-items: stretch;justify-content: center;background-color: white;position: relative;}#sk-container-id-1 div.sk-item::before, #sk-container-id-1 div.sk-parallel-item::before {content: \"\";position: absolute;border-left: 1px solid gray;box-sizing: border-box;top: 0;bottom: 0;left: 50%;z-index: -1;}#sk-container-id-1 div.sk-parallel-item {display: flex;flex-direction: column;z-index: 1;position: relative;background-color: white;}#sk-container-id-1 div.sk-parallel-item:first-child::after {align-self: flex-end;width: 50%;}#sk-container-id-1 div.sk-parallel-item:last-child::after {align-self: flex-start;width: 50%;}#sk-container-id-1 div.sk-parallel-item:only-child::after {width: 0;}#sk-container-id-1 div.sk-dashed-wrapped {border: 1px dashed gray;margin: 0 0.4em 0.5em 0.4em;box-sizing: border-box;padding-bottom: 0.4em;background-color: white;}#sk-container-id-1 div.sk-label label {font-family: monospace;font-weight: bold;display: inline-block;line-height: 1.2em;}#sk-container-id-1 div.sk-label-container {text-align: center;}#sk-container-id-1 div.sk-container {/* jupyter's `normalize.less` sets `[hidden] { display: none; }` but bootstrap.min.css set `[hidden] { display: none !important; }` so we also need the `!important` here to be able to override the default hidden behavior on the sphinx rendered scikit-learn.org. See: https://github.com/scikit-learn/scikit-learn/issues/21755 */display: inline-block !important;position: relative;}#sk-container-id-1 div.sk-text-repr-fallback {display: none;}</style><div id=\"sk-container-id-1\" class=\"sk-top-container\"><div class=\"sk-text-repr-fallback\"><pre>RandomForestRegressor()</pre><b>In a Jupyter environment, please rerun this cell to show the HTML representation or trust the notebook. <br />On GitHub, the HTML representation is unable to render, please try loading this page with nbviewer.org.</b></div><div class=\"sk-container\" hidden><div class=\"sk-item\"><div class=\"sk-estimator sk-toggleable\"><input class=\"sk-toggleable__control sk-hidden--visually\" id=\"sk-estimator-id-1\" type=\"checkbox\" checked><label for=\"sk-estimator-id-1\" class=\"sk-toggleable__label sk-toggleable__label-arrow\">RandomForestRegressor</label><div class=\"sk-toggleable__content\"><pre>RandomForestRegressor()</pre></div></div></div></div></div>"
            ]
          },
          "metadata": {},
          "execution_count": 70
        }
      ]
    },
    {
      "cell_type": "code",
      "source": [
        "features = np.array([[10, 12, 54.10, 4241.05, 49.56, 9.0, 14.8, 491.32, 54.0, 4426.84]])\n",
        "model.predict(features)"
      ],
      "metadata": {
        "colab": {
          "base_uri": "https://localhost:8080/"
        },
        "id": "6MuZXYfBA350",
        "outputId": "1ed7a89b-7c97-4f94-ecf2-c56035f362b3"
      },
      "execution_count": null,
      "outputs": [
        {
          "output_type": "stream",
          "name": "stderr",
          "text": [
            "/usr/local/lib/python3.10/dist-packages/sklearn/base.py:439: UserWarning: X does not have valid feature names, but RandomForestRegressor was fitted with feature names\n",
            "  warnings.warn(\n"
          ]
        },
        {
          "output_type": "execute_result",
          "data": {
            "text/plain": [
              "array([65.9029])"
            ]
          },
          "metadata": {},
          "execution_count": 71
        }
      ]
    },
    {
      "cell_type": "code",
      "source": [],
      "metadata": {
        "id": "Ga9mbAU3BRVE"
      },
      "execution_count": null,
      "outputs": []
    }
  ]
}